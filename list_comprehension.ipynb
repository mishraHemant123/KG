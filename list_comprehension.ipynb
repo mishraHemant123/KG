{
  "nbformat": 4,
  "nbformat_minor": 0,
  "metadata": {
    "colab": {
      "name": "list_comprehension.ipynb",
      "provenance": [],
      "collapsed_sections": [],
      "authorship_tag": "ABX9TyNKaJq13haulpN85b2BGBwD",
      "include_colab_link": true
    },
    "kernelspec": {
      "name": "python3",
      "display_name": "Python 3"
    }
  },
  "cells": [
    {
      "cell_type": "markdown",
      "metadata": {
        "id": "view-in-github",
        "colab_type": "text"
      },
      "source": [
        "<a href=\"https://colab.research.google.com/github/mishraHemant123/KG/blob/main/list_comprehension.ipynb\" target=\"_parent\"><img src=\"https://colab.research.google.com/assets/colab-badge.svg\" alt=\"Open In Colab\"/></a>"
      ]
    },
    {
      "cell_type": "markdown",
      "metadata": {
        "id": "iZOnOyvHdDFM"
      },
      "source": [
        "Python is renowned for encouraging developers and programmers to write efficient, easy-to-understand, and almost as simple-to-read code. One of the most distinctive aspects of the language is the python list and the list compression feature, which one can use within a single line of code to construct powerful functionality.\n",
        "\n",
        "List comprehensions are used for creating new lists from other iterables like tuples, strings, arrays, lists, etc. A list comprehension consists of brackets containing the expression, which is executed for each element along with the for loop to iterate over each element"
      ]
    },
    {
      "cell_type": "markdown",
      "metadata": {
        "id": "QDFdM5EdnDxh"
      },
      "source": [
        "ADVANTAGE OF LIST COMPREHENSION:\n",
        "1->More time effecient\n",
        "2-> Reqiuire fewer lines of code\n"
      ]
    },
    {
      "cell_type": "code",
      "metadata": {
        "id": "QZH_MFGlovCV"
      },
      "source": [
        "import os"
      ],
      "execution_count": null,
      "outputs": []
    },
    {
      "cell_type": "markdown",
      "metadata": {
        "id": "TpCSbkBuoBhM"
      },
      "source": [
        "List Comprehensions vs For Loop\n",
        "There are various ways to iterate through a list. However, the most common approach is to use the for loop. Let us look at the below example:"
      ]
    },
    {
      "cell_type": "code",
      "metadata": {
        "colab": {
          "base_uri": "https://localhost:8080/"
        },
        "id": "6PkjMjGPoj0f",
        "outputId": "329b5049-f3e8-4fbb-9ad0-0962228b32b8"
      },
      "source": [
        "#empty list\n",
        "list=[]\n",
        "#traditional way of iterating \n",
        "for character in 'My name is Hemant':\n",
        "  list.append(character)\n",
        "print(list)"
      ],
      "execution_count": null,
      "outputs": [
        {
          "output_type": "stream",
          "name": "stdout",
          "text": [
            "['M', 'y', ' ', 'n', 'a', 'm', 'e', ' ', 'i', 's', ' ', 'H', 'e', 'm', 'a', 'n', 't']\n"
          ]
        }
      ]
    },
    {
      "cell_type": "markdown",
      "metadata": {
        "id": "7uTCNex9qcEx"
      },
      "source": [
        "The list comprehensions are more efficient both computationally and in terms of coding space and time than a for loop. Typically, they are written in a single line of code. The below program depicts the difference between for loops and list comprehension based on performance."
      ]
    },
    {
      "cell_type": "code",
      "metadata": {
        "colab": {
          "base_uri": "https://localhost:8080/"
        },
        "id": "itw7WiO7qd_-",
        "outputId": "0eb83e03-d9b5-421b-cbc8-34945ad65be6"
      },
      "source": [
        "import time\n",
        "\n",
        "# define function to implement for loop\n",
        "def calculate_by_for_loop(n):\n",
        "    result = []\n",
        "    for i in range(n):\n",
        "        result.append(i**2)\n",
        "    return result\n",
        "\n",
        "\n",
        "#define function to implement list comprehenshion\n",
        "def calculate_by_list_comprehenshion(n):\n",
        "  result=[i**2 for i in range(n)]\n",
        "\n",
        "  # Driver Code \n",
        " \n",
        "# Calculate time takens by for_loop()\n",
        "begin = time.time()\n",
        "calculate_by_for_loop(10**6)\n",
        "end = time.time()\n",
        " \n",
        " #print time taken by for loop\n",
        "print('time take by for loop:', round(end-begin,2))\n",
        "\n",
        "\n",
        "# print time take by list compreheshion\n",
        "begin=time.time()\n",
        "calculate_by_list_comprehenshion(10**6)\n",
        "end= time.time()\n",
        "print('time taken by list comprehenshin:',round(end-begin, 2))\n",
        "\n",
        "\n"
      ],
      "execution_count": null,
      "outputs": [
        {
          "output_type": "stream",
          "name": "stdout",
          "text": [
            "time take by for loop: 0.36\n",
            "time taken by list comprehenshin: 0.31\n"
          ]
        }
      ]
    },
    {
      "cell_type": "code",
      "metadata": {
        "colab": {
          "base_uri": "https://localhost:8080/"
        },
        "id": "miuPvhMPzamk",
        "outputId": "9dc18df1-84c5-4495-e8f6-153dbfbd4e00"
      },
      "source": [
        "#Nested loops example\n",
        "matrix=[]\n",
        "for i in range(3):\n",
        "  matrix.append([])\n",
        "  for j in range(5):\n",
        "\n",
        "    matrix[i].append(j)\n",
        "\n",
        "print(matrix)\n",
        "  "
      ],
      "execution_count": null,
      "outputs": [
        {
          "output_type": "stream",
          "name": "stdout",
          "text": [
            "[[0, 1, 2, 3, 4], [0, 1, 2, 3, 4], [0, 1, 2, 3, 4]]\n"
          ]
        }
      ]
    },
    {
      "cell_type": "code",
      "metadata": {
        "id": "ionm_8Pd3RHb",
        "colab": {
          "base_uri": "https://localhost:8080/"
        },
        "outputId": "d3e3806c-ed2a-4f05-b1ed-4b9d5d1fc67c"
      },
      "source": [
        "# Nested list comprehension\n",
        "matrix = [[j for j in range(5)] for i in range(3)]\n",
        " \n",
        "print(matrix)"
      ],
      "execution_count": null,
      "outputs": [
        {
          "output_type": "stream",
          "name": "stdout",
          "text": [
            "[[0, 1, 2, 3, 4], [0, 1, 2, 3, 4], [0, 1, 2, 3, 4]]\n"
          ]
        }
      ]
    }
  ]
}